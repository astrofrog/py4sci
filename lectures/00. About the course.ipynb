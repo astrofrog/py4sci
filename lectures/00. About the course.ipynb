{
 "metadata": {
  "name": "",
  "signature": "sha256:f657b23cc87353e7bd76ab444c0e8a09f8b6a7e4fb7cd781e320c475890c13c7"
 },
 "nbformat": 3,
 "nbformat_minor": 0,
 "worksheets": [
  {
   "cells": [
    {
     "cell_type": "markdown",
     "metadata": {
      "slideshow": {
       "slide_type": "slide"
      }
     },
     "source": [
      "About the course\n",
      "================"
     ]
    },
    {
     "cell_type": "markdown",
     "metadata": {
      "slideshow": {
       "slide_type": "slide"
      }
     },
     "source": [
      "About myself\n",
      "------------\n",
      "\n",
      "My name is [Thomas Robitaille](http://mpia.de/~robitaille/) and I am the leader of a research group at the Max Planck Institut f\u00fcr Astronomie. I carry out research on star formation in the Milky-Way and other galaxies, and I use Python for my daily work.\n",
      "\n",
      "I have developed a number of Python packages for Astronomers, including [APLpy](http://aplpy.github.io), [ATpy](http://atpy.github.io), [Montage-wrapper](http://www.astropy.org/montage-wrapper/), [PyAVM](https://github.com/astrofrog/pyavm). I have also contributed to [Scipy](http://www.scipy.org) and other scientific packages, and am one of the project leaders for [Astropy](http://www.astropy.org), which is a big project to create one main Python package for Astronomy.\n",
      "\n",
      "![](http://mpia.de/~robitaille/glimpse.png)\n",
      "\n",
      "You can contact me at **robitaille@mpia.de**.\n",
      "\n",
      "Please let me know if you have feedback/suggestions for improving the course!"
     ]
    },
    {
     "cell_type": "markdown",
     "metadata": {
      "slideshow": {
       "slide_type": "slide"
      }
     },
     "source": [
      "Topics\n",
      "------\n",
      "\n",
      "- Introduction to Python\n",
      "- Modules and Functions\n",
      "- Introduction to Numpy and Matplotlib\n",
      "- Reading/writing data from files\n",
      "- Introduction to Scipy (interpolation, integration, fitting)\n",
      "- Using the IPython Notebook\n",
      "- Object-oriented programming\n",
      "- Applying Python to scientific problems"
     ]
    },
    {
     "cell_type": "markdown",
     "metadata": {
      "slideshow": {
       "slide_type": "notes"
      }
     },
     "source": [
      "Structure\n",
      "---------\n",
      "\n",
      "The block course lasts five days, and each day will follow this schedule:\n",
      "\n",
      "* 9:00-10:30 - lecture/exercises\n",
      "* 10:30-11:00 - break\n",
      "* 11:00-12:30 - lecture/exercises\n",
      "* 12:30-13:30 - break for lunch\n",
      "* 13:30-14:30 - lecture/exercises\n",
      "* 14:30-17:00 - CIP pool available to finish homework\n",
      "\n",
      "The lectures will be mixed with exercise sessions - from time to time I will give you 5 or 10 minutes to complete a given task/exercise. I will give out three graded problem sets during the week, and you will be required to hand these in a deadline indicated on the problem sheet. There will be *no* final exam. An average of 60% in the problem sets will be required to obtain the 2 credits at the end of the course.\n",
      "\n",
      "The course will be in English."
     ]
    },
    {
     "cell_type": "markdown",
     "metadata": {
      "slideshow": {
       "slide_type": "slide"
      }
     },
     "source": [
      "Feedback\n",
      "--------\n",
      "\n",
      "I am very happy to come by to review your code/solutions to exercises (i.e. not problem sets). During the afternoon session, please do ask me to come by if you would like me to comment on your code and how to improve it."
     ]
    },
    {
     "cell_type": "markdown",
     "metadata": {
      "slideshow": {
       "slide_type": "slide"
      }
     },
     "source": [
      "Solutions\n",
      "---------"
     ]
    },
    {
     "cell_type": "markdown",
     "metadata": {
      "slideshow": {
       "slide_type": "slide"
      }
     },
     "source": [
      "**for exercises that require you to submit a Python script:**\n",
      "\n",
      "- enter a filename that contains the name of the problem sheet and your name, and ending with ``.py``, as follows:\n",
      "\n",
      "        problem_set_1_thomas_robitaille.py\n",
      "    \n",
      "- send me the file by email to [robitaille@mpia.de](mailto:robitaille@mpia.de) with ``[PY4SCI]`` in the subject."
     ]
    },
    {
     "cell_type": "markdown",
     "metadata": {
      "slideshow": {
       "slide_type": "slide"
      }
     },
     "source": [
      "**for exercises that require you to submit an IPython notebook:**\n",
      "\n",
      "- enter a filename that contains the name of the problem sheet and your name, and ending with ``.ipynb``, as follows:\n",
      "\n",
      "        problem_set_2_thomas_robitaille.ipynb\n",
      "\n",
      "- send me the file by email to [robitaille@mpia.de](mailto:robitaille@mpia.de) with ``[PY4SCI]`` in the subject."
     ]
    },
    {
     "cell_type": "markdown",
     "metadata": {
      "slideshow": {
       "slide_type": "slide"
      }
     },
     "source": [
      "The following criteria are taken into account for grading problem sets - the code should:\n",
      "\n",
      "- run with no errors\n",
      "- produce the correct results\n",
      "- be clearly readable, and include comments explaining what is being done\n",
      "- not include any unused code!\n",
      "- include a header summarizing the problem and if there are any special instructions for running the program. You can use triple quotes to enclose the header information:\n",
      "\n",
      "        \"\"\"\n",
      "        Program to compute prime numbers\n",
      "        Author: Thomas Robitaille\n",
      "        \n",
      "        You can run this program with ``python primes.py``\n",
      "        \"\"\""
     ]
    },
    {
     "cell_type": "markdown",
     "metadata": {},
     "source": [
      "**There is not always a unique solution to a problem**, so it does not matter if your programs do not look the same as somebody else's! What matters most is that you find your own way of doing it."
     ]
    },
    {
     "cell_type": "markdown",
     "metadata": {},
     "source": [
      "Policy on handing in solutions\n",
      "------------------------------\n",
      "\n",
      "Practice Problems can be done in groups, but Problem Sets should be done **individually** in order to get the full marks. If you need to work with someone else, then you can, but (a) you should submit a single solution and declare that you worked together on the solution, and (b) the final grade for the problem set will be multiplied by 0.75. If two students or more submit essentially the same solution without declaring they have worked together, then the final grade for the problem set will be multiplied by 0.50."
     ]
    },
    {
     "cell_type": "markdown",
     "metadata": {
      "slideshow": {
       "slide_type": "slide"
      }
     },
     "source": [
      "Laptops\n",
      "-------\n",
      "\n",
      "If you would like to use Python on your laptop, you have several possibilities:\n",
      "\n",
      "- If you have a linux laptop and are familiar with package managers, most major scientific Python packages are available through these\n",
      "- Otherwise, try and install the [Anaconda Python distribution](http://continuum.io/downloads.html)\n",
      "\n",
      "Come and speak to me in the afternoon if you have any questions or need any help getting set up."
     ]
    },
    {
     "cell_type": "heading",
     "level": 2,
     "metadata": {},
     "source": [
      "Getting set up"
     ]
    },
    {
     "cell_type": "markdown",
     "metadata": {},
     "source": [
      "Before you can run Python in the ways described on this page, you will need to start up a command-line Terminal application. In the CIP pool this is located in the Anwendungen -> Zubeh\u00f6r -> Terminal menu.\n",
      "\n",
      "If you are using the CIP machines, you will need to enable the Anaconda Python distribution with:\n",
      "\n",
      "    export PATH=/local/py4sci/anaconda3/bin:$PATH\n",
      "    \n",
      "You can add this to a file named ``.bashrc`` in your home directory if you want the command to run anytime you open a terminal.\n",
      "\n",
      "**I will demonstrate how to do this during the course**"
     ]
    }
   ],
   "metadata": {}
  }
 ]
}