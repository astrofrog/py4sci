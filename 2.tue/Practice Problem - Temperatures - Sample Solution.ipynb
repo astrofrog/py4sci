{
 "cells": [
  {
   "cell_type": "markdown",
   "metadata": {},
   "source": [
    "# Practice Problem - Temperatures - Sample Solution"
   ]
  },
  {
   "cell_type": "markdown",
   "metadata": {},
   "source": [
    "First we read in the data:"
   ]
  },
  {
   "cell_type": "code",
   "execution_count": null,
   "metadata": {
    "collapsed": false
   },
   "outputs": [],
   "source": [
    "days = []\n",
    "temperatures = []\n",
    "\n",
    "for line in open('data/munich_temperatures_average.txt', 'r'):\n",
    "    \n",
    "    day, temperature = line.strip().split()\n",
    "    \n",
    "    # day and temperature are strings so we need to convert them\n",
    "    # when we append them to the lists\n",
    "    days.append(float(day))\n",
    "    temperatures.append(float(temperature))"
   ]
  },
  {
   "cell_type": "markdown",
   "metadata": {},
   "source": [
    "Now that the data has been read into two lists, we can loop through and split up the temperatures by year:"
   ]
  },
  {
   "cell_type": "code",
   "execution_count": null,
   "metadata": {
    "collapsed": false
   },
   "outputs": [],
   "source": [
    "yearly_temperatures = {}\n",
    "\n",
    "for i in range(len(days)):\n",
    "    \n",
    "    # Find the year (as an integer)\n",
    "    year = int(days[i])\n",
    "    \n",
    "    # If the key doesn't exist in the dictionary, create it\n",
    "    if not year in yearly_temperatures:\n",
    "        yearly_temperatures[year] = []\n",
    "        \n",
    "    # Add the temperature to the list\n",
    "    yearly_temperatures[year].append(temperatures[i])"
   ]
  },
  {
   "cell_type": "markdown",
   "metadata": {},
   "source": [
    "Having done this, the dictionary contains for each year a list of average temperatures. We can now loop through the years and find the minimum, average, and maximum:"
   ]
  },
  {
   "cell_type": "code",
   "execution_count": null,
   "metadata": {
    "collapsed": false
   },
   "outputs": [],
   "source": [
    "for year in yearly_temperatures:\n",
    "    \n",
    "    # We can store the current temperature list in a variable\n",
    "    # to avoid having to write it out every time.\n",
    "    t_list = yearly_temperatures[year]\n",
    "    print(year, min(t_list), sum(t_list) / len(t_list), max(t_list))"
   ]
  },
  {
   "cell_type": "markdown",
   "metadata": {},
   "source": [
    "In this case, the dates are in the right order, but when looping over a dictionary, order is not guaranteed, so it is safer to do:"
   ]
  },
  {
   "cell_type": "code",
   "execution_count": null,
   "metadata": {
    "collapsed": false
   },
   "outputs": [],
   "source": [
    "for year in sorted(yearly_temperatures.keys()):\n",
    "    t_list = yearly_temperatures[year]\n",
    "    print(year, min(t_list), sum(t_list) / len(t_list), max(t_list))"
   ]
  },
  {
   "cell_type": "markdown",
   "metadata": {},
   "source": [
    "Now we can try and do the same thing, but sorting by month instead of year. For simplicity, let's assume that all 12 months are the same length:"
   ]
  },
  {
   "cell_type": "code",
   "execution_count": null,
   "metadata": {
    "collapsed": false
   },
   "outputs": [],
   "source": [
    "monthly_temperatures = {}\n",
    "\n",
    "for i in range(len(days)):\n",
    "    \n",
    "    # Find the month (as an integer). This finds the fractional\n",
    "    # part of the date, multiplies it by 12, and then converts\n",
    "    # to an integer. We then have to add 1 to make sure it is in\n",
    "    # the range 1-12 (not 0-11).\n",
    "    month = int(12. * (days[i] - int(days[i]))) + 1\n",
    "    \n",
    "    # If the key doesn't exist in the dictionary, create it\n",
    "    if not month in monthly_temperatures:\n",
    "        monthly_temperatures[month] = []\n",
    "        \n",
    "    # Add the temperature to the list\n",
    "    monthly_temperatures[month].append(temperatures[i])"
   ]
  },
  {
   "cell_type": "code",
   "execution_count": null,
   "metadata": {
    "collapsed": false
   },
   "outputs": [],
   "source": [
    "for month in sorted(monthly_temperatures.keys()):\n",
    "    m_list = monthly_temperatures[month]\n",
    "    print(month, min(m_list), sum(m_list) / len(m_list), max(m_list))"
   ]
  },
  {
   "cell_type": "markdown",
   "metadata": {},
   "source": [
    "If we want to show the month, we can use a dictionary:"
   ]
  },
  {
   "cell_type": "code",
   "execution_count": null,
   "metadata": {
    "collapsed": false
   },
   "outputs": [],
   "source": [
    "MONTHS = {}\n",
    "MONTHS[1] = \"January\"\n",
    "MONTHS[2] = \"February\"\n",
    "MONTHS[3] = \"March\"\n",
    "MONTHS[4] = \"April\"\n",
    "MONTHS[5] = \"May\"\n",
    "MONTHS[6] = \"June\"\n",
    "MONTHS[7] = \"July\"\n",
    "MONTHS[8] = \"August\"\n",
    "MONTHS[9] = \"September\"\n",
    "MONTHS[10] = \"October\"\n",
    "MONTHS[11] = \"November\"\n",
    "MONTHS[12] = \"December\""
   ]
  },
  {
   "cell_type": "code",
   "execution_count": null,
   "metadata": {
    "collapsed": false
   },
   "outputs": [],
   "source": [
    "for month in sorted(monthly_temperatures.keys()):\n",
    "    m_list = monthly_temperatures[month]\n",
    "    print(MONTHS[month], min(m_list), sum(m_list) / len(m_list), max(m_list))"
   ]
  },
  {
   "cell_type": "markdown",
   "metadata": {},
   "source": [
    "You may want to look into the [calendar](http://docs.python.org/3/library/calendar.html) and [datetime](http://docs.python.org/3/library/datetime.html) built-in modules to see if any of the above can be made easier."
   ]
  }
 ],
 "metadata": {},
 "nbformat": 4,
 "nbformat_minor": 2
}
