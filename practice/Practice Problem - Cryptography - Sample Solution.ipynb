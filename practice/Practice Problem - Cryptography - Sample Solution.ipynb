{
 "metadata": {
  "name": "",
  "signature": "sha256:8760ac48d064d3fecea0fff1d771e560284a3774b30aa32d245cf8b5ffdd8e70"
 },
 "nbformat": 3,
 "nbformat_minor": 0,
 "worksheets": [
  {
   "cells": [
    {
     "cell_type": "heading",
     "level": 1,
     "metadata": {},
     "source": [
      "Practice Problem - Cryptography - Sample Solution"
     ]
    },
    {
     "cell_type": "code",
     "collapsed": false,
     "input": [
      "def caesar(string, shift):\n",
      "\n",
      "    # We initialize an empty string to which we are going to add the new letters\n",
      "    new_string = \"\"\n",
      "    \n",
      "    # Loop over all the letters in the string\n",
      "    for letter in string:\n",
      "        \n",
      "        # We need to make sure that spaces stay intact\n",
      "        if letter == ' ':\n",
      "            new_letter = ' '\n",
      "        else:\n",
      "            \n",
      "            # We convert the letter to its ASCII code and add the shift\n",
      "            i = ord(letter) + shift\n",
      "            \n",
      "            # We need to make sure that we wrap around the alphabet\n",
      "            if i > ord('z'):\n",
      "                i -= 26\n",
      "            elif i < ord('a'):\n",
      "                i += 26\n",
      "            \n",
      "            # We convert the ASCII code back to a letter\n",
      "            new_letter = chr(i)\n",
      "            \n",
      "        new_string += new_letter\n",
      "\n",
      "    return new_string\n",
      "     \n",
      "print(caesar(\"pbatenghyngvbaf lbh unir fhpprrqrq va qrpelcgvat gur fgevat\", -13))\n"
     ],
     "language": "python",
     "metadata": {},
     "outputs": [
      {
       "output_type": "stream",
       "stream": "stdout",
       "text": [
        "congratulations you have succeeded in decrypting the string\n"
       ]
      }
     ],
     "prompt_number": 1
    },
    {
     "cell_type": "markdown",
     "metadata": {},
     "source": [
      "Now for the string for which we don't know the shift:"
     ]
    },
    {
     "cell_type": "code",
     "collapsed": false,
     "input": [
      "for shift in range(26):\n",
      "    print(shift, caesar(\"gwc uivioml bw nqvl bpm zqopb apqnb\", -shift))"
     ],
     "language": "python",
     "metadata": {},
     "outputs": [
      {
       "output_type": "stream",
       "stream": "stdout",
       "text": [
        "0 gwc uivioml bw nqvl bpm zqopb apqnb\n",
        "1 fvb thuhnlk av mpuk aol ypnoa zopma\n",
        "2 eua sgtgmkj zu lotj znk xomnz ynolz\n",
        "3 dtz rfsflji yt knsi ymj wnlmy xmnky\n",
        "4 csy qerekih xs jmrh xli vmklx wlmjx\n",
        "5 brx pdqdjhg wr ilqg wkh uljkw vkliw\n",
        "6 aqw ocpcigf vq hkpf vjg tkijv ujkhv\n",
        "7 zpv nbobhfe up gjoe uif sjhiu tijgu\n",
        "8 you managed to find the right shift\n",
        "9 xnt lzmzfdc sn ehmc sgd qhfgs rghes\n",
        "10 wms kylyecb rm dglb rfc pgefr qfgdr\n",
        "11 vlr jxkxdba ql cfka qeb ofdeq pefcq\n",
        "12 ukq iwjwcaz pk bejz pda necdp odebp\n",
        "13 tjp hvivbzy oj adiy ocz mdbco ncdao\n",
        "14 sio guhuayx ni zchx nby lcabn mbczn\n",
        "15 rhn ftgtzxw mh ybgw max kbzam labym\n",
        "16 qgm esfsywv lg xafv lzw jayzl kzaxl\n",
        "17 pfl drerxvu kf wzeu kyv izxyk jyzwk\n",
        "18 oek cqdqwut je vydt jxu hywxj ixyvj\n",
        "19 ndj bpcpvts id uxcs iwt gxvwi hwxui\n",
        "20 mci aobousr hc twbr hvs fwuvh gvwth\n",
        "21 lbh znantrq gb svaq gur evtug fuvsg\n",
        "22 kag ymzmsqp fa ruzp ftq dustf eturf\n",
        "23 jzf xlylrpo ez qtyo esp ctrse dstqe\n",
        "24 iye wkxkqon dy psxn dro bsqrd crspd\n",
        "25 hxd vjwjpnm cx orwm cqn arpqc bqroc\n"
       ]
      }
     ],
     "prompt_number": 2
    },
    {
     "cell_type": "markdown",
     "metadata": {},
     "source": [
      "It looks like the right shift was 8! Finally, here's how you could implement your own functions for ``ord`` and ``chr``. It seems that ``a`` starts at an ASCII code of 97, so let's try and reproduce the results for the letters ``a`` to ``z``:"
     ]
    },
    {
     "cell_type": "code",
     "collapsed": false,
     "input": [
      "def my_ord(s):\n",
      "    letters = 'abcdefghijklmnopqrstuvwxyz'\n",
      "    return letters.index(s) + 97\n",
      "\n",
      "print(ord('f'), my_ord('f'))"
     ],
     "language": "python",
     "metadata": {},
     "outputs": [
      {
       "output_type": "stream",
       "stream": "stdout",
       "text": [
        "102 102\n"
       ]
      }
     ],
     "prompt_number": 3
    },
    {
     "cell_type": "code",
     "collapsed": false,
     "input": [
      "def my_chr(i):\n",
      "    letters = 'abcdefghijklmnopqrstuvwxyz'\n",
      "    return letters[i-97]\n",
      "\n",
      "print(chr(100), my_chr(100))"
     ],
     "language": "python",
     "metadata": {},
     "outputs": [
      {
       "output_type": "stream",
       "stream": "stdout",
       "text": [
        "d d\n"
       ]
      }
     ],
     "prompt_number": 4
    },
    {
     "cell_type": "markdown",
     "metadata": {},
     "source": [
      "Of course, these custom functions will only work for ``a`` to ``z`` and not for any other character or punctuation, but this is just practice for writing functions."
     ]
    }
   ],
   "metadata": {}
  }
 ]
}