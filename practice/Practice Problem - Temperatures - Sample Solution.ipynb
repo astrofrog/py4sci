{
 "metadata": {
  "name": "",
  "signature": "sha256:98b3b418db439ac782fb549bd70b6e86e9d2d44d1bc9b5ca9249a22585458e50"
 },
 "nbformat": 3,
 "nbformat_minor": 0,
 "worksheets": [
  {
   "cells": [
    {
     "cell_type": "heading",
     "level": 1,
     "metadata": {},
     "source": [
      "Practice Problem - Temperatures - Sample Solution"
     ]
    },
    {
     "cell_type": "markdown",
     "metadata": {},
     "source": [
      "First we read in the data:"
     ]
    },
    {
     "cell_type": "code",
     "collapsed": false,
     "input": [
      "days = []\n",
      "temperatures = []\n",
      "\n",
      "for line in open('data/munich_temperatures_average.txt', 'r'):\n",
      "    \n",
      "    day, temperature = line.strip().split()\n",
      "    \n",
      "    # day and temperature are strings so we need to convert them\n",
      "    # when we append them to the lists\n",
      "    days.append(float(day))\n",
      "    temperatures.append(float(temperature))"
     ],
     "language": "python",
     "metadata": {},
     "outputs": [],
     "prompt_number": 1
    },
    {
     "cell_type": "markdown",
     "metadata": {},
     "source": [
      "Now that the data has been read into two lists, we can loop through and split up the temperatures by year:"
     ]
    },
    {
     "cell_type": "code",
     "collapsed": false,
     "input": [
      "yearly_temperatures = {}\n",
      "\n",
      "for i in range(len(days)):\n",
      "    \n",
      "    # Find the year (as an integer)\n",
      "    year = int(days[i])\n",
      "    \n",
      "    # If the key doesn't exist in the dictionary, create it\n",
      "    if not year in yearly_temperatures:\n",
      "        yearly_temperatures[year] = []\n",
      "        \n",
      "    # Add the temperature to the list\n",
      "    yearly_temperatures[year].append(temperatures[i])"
     ],
     "language": "python",
     "metadata": {},
     "outputs": [],
     "prompt_number": 2
    },
    {
     "cell_type": "markdown",
     "metadata": {},
     "source": [
      "Having done this, the dictionary contains for each year a list of average temperatures. We can now loop through the years and find the minimum, average, and maximum:"
     ]
    },
    {
     "cell_type": "code",
     "collapsed": false,
     "input": [
      "for year in yearly_temperatures:\n",
      "    \n",
      "    # We can store the current temperature list in a variable\n",
      "    # to avoid having to write it out every time.\n",
      "    t_list = yearly_temperatures[year]\n",
      "    print(year, min(t_list), sum(t_list) / len(t_list), max(t_list))"
     ],
     "language": "python",
     "metadata": {},
     "outputs": [
      {
       "output_type": "stream",
       "stream": "stdout",
       "text": [
        "1995 -13.2778 8.76560005479 25.9444\n",
        "1996 -15.5 7.22983359342 23.8333\n",
        "1997 -12.8889 8.54842192459 21.5556\n",
        "1998 -12.2222 9.24570232486 25.5\n",
        "1999 -9.83333 9.11065174176 25.3333\n",
        "2000 -16.7778 9.76544640164 24.7778\n",
        "2001 -12.1667 9.00713250874 24.5556\n",
        "2002 -11.1111 9.88171428408 25.1111\n",
        "2003 -14.3333 9.39832563836 27.6667\n",
        "2004 -10.7778 8.87701570301 23.0\n",
        "2005 -14.1111 8.22475459088 25.1111\n",
        "2006 -11.2778 9.16376546758 25.9444\n",
        "2007 -8.83333 9.7686472507 26.2778\n",
        "2008 -5.11111 9.66086716264 24.0556\n",
        "2009 -10.7778 9.37229706466 23.2778\n",
        "2010 -9.33333 8.32130788219 25.7222\n",
        "2011 -9.27778 9.69163106301 25.5\n",
        "2012 -15.4444 9.22526714082 24.7222\n",
        "2013 -7.38889 0.645503775238 11.1667\n"
       ]
      }
     ],
     "prompt_number": 3
    },
    {
     "cell_type": "markdown",
     "metadata": {},
     "source": [
      "In this case, the dates are in the right order, but when looping over a dictionary, order is not guaranteed, so it is safer to do:"
     ]
    },
    {
     "cell_type": "code",
     "collapsed": false,
     "input": [
      "for year in sorted(yearly_temperatures.keys()):\n",
      "    t_list = yearly_temperatures[year]\n",
      "    print(year, min(t_list), sum(t_list) / len(t_list), max(t_list))"
     ],
     "language": "python",
     "metadata": {},
     "outputs": [
      {
       "output_type": "stream",
       "stream": "stdout",
       "text": [
        "1995 -13.2778 8.76560005479 25.9444\n",
        "1996 -15.5 7.22983359342 23.8333\n",
        "1997 -12.8889 8.54842192459 21.5556\n",
        "1998 -12.2222 9.24570232486 25.5\n",
        "1999 -9.83333 9.11065174176 25.3333\n",
        "2000 -16.7778 9.76544640164 24.7778\n",
        "2001 -12.1667 9.00713250874 24.5556\n",
        "2002 -11.1111 9.88171428408 25.1111\n",
        "2003 -14.3333 9.39832563836 27.6667\n",
        "2004 -10.7778 8.87701570301 23.0\n",
        "2005 -14.1111 8.22475459088 25.1111\n",
        "2006 -11.2778 9.16376546758 25.9444\n",
        "2007 -8.83333 9.7686472507 26.2778\n",
        "2008 -5.11111 9.66086716264 24.0556\n",
        "2009 -10.7778 9.37229706466 23.2778\n",
        "2010 -9.33333 8.32130788219 25.7222\n",
        "2011 -9.27778 9.69163106301 25.5\n",
        "2012 -15.4444 9.22526714082 24.7222\n",
        "2013 -7.38889 0.645503775238 11.1667\n"
       ]
      }
     ],
     "prompt_number": 4
    },
    {
     "cell_type": "markdown",
     "metadata": {},
     "source": [
      "Now we can try and do the same thing, but sorting by month instead of year. For simplicity, let's assume that all 12 months are the same length:"
     ]
    },
    {
     "cell_type": "code",
     "collapsed": false,
     "input": [
      "monthly_temperatures = {}\n",
      "\n",
      "for i in range(len(days)):\n",
      "    \n",
      "    # Find the month (as an integer). This finds the fractional\n",
      "    # part of the date, multiplies it by 12, and then converts\n",
      "    # to an integer. We then have to add 1 to make sure it is in\n",
      "    # the range 1-12 (not 0-11).\n",
      "    month = int(12. * (days[i] - int(days[i]))) + 1\n",
      "    \n",
      "    # If the key doesn't exist in the dictionary, create it\n",
      "    if not month in monthly_temperatures:\n",
      "        monthly_temperatures[month] = []\n",
      "        \n",
      "    # Add the temperature to the list\n",
      "    monthly_temperatures[month].append(temperatures[i])"
     ],
     "language": "python",
     "metadata": {},
     "outputs": [],
     "prompt_number": 5
    },
    {
     "cell_type": "code",
     "collapsed": false,
     "input": [
      "for month in sorted(monthly_temperatures.keys()):\n",
      "    m_list = monthly_temperatures[month]\n",
      "    print(month, min(m_list), sum(m_list) / len(m_list), max(m_list))"
     ],
     "language": "python",
     "metadata": {},
     "outputs": [
      {
       "output_type": "stream",
       "stream": "stdout",
       "text": [
        "1 -16.7778 -0.849400201742 12.2222\n",
        "2 -15.4444 0.662865429825 11.9444\n",
        "3 -7.66667 4.47398913816 16.2778\n",
        "4 -2.11111 9.27625387642 20.7222\n",
        "5 5.22222 13.97930566 23.1667\n",
        "6 7.77778 17.204186306 25.1111\n",
        "7 10.5 18.459178853 26.2778\n",
        "8 9.5 18.2187152876 27.6667\n",
        "9 3.88889 13.7085448664 22.7222\n",
        "10 -1.44444 9.38012671254 20.5\n",
        "11 -7.11111 3.74218128667 14.1667\n",
        "12 -15.5 0.220316730325 11.2778\n"
       ]
      }
     ],
     "prompt_number": 6
    },
    {
     "cell_type": "markdown",
     "metadata": {},
     "source": [
      "If we want to show the month, we can use a dictionary:"
     ]
    },
    {
     "cell_type": "code",
     "collapsed": false,
     "input": [
      "MONTHS = {}\n",
      "MONTHS[1] = \"January\"\n",
      "MONTHS[2] = \"February\"\n",
      "MONTHS[3] = \"March\"\n",
      "MONTHS[4] = \"April\"\n",
      "MONTHS[5] = \"May\"\n",
      "MONTHS[6] = \"June\"\n",
      "MONTHS[7] = \"July\"\n",
      "MONTHS[8] = \"August\"\n",
      "MONTHS[9] = \"September\"\n",
      "MONTHS[10] = \"October\"\n",
      "MONTHS[11] = \"November\"\n",
      "MONTHS[12] = \"December\""
     ],
     "language": "python",
     "metadata": {},
     "outputs": [],
     "prompt_number": 7
    },
    {
     "cell_type": "code",
     "collapsed": false,
     "input": [
      "for month in sorted(monthly_temperatures.keys()):\n",
      "    m_list = monthly_temperatures[month]\n",
      "    print(MONTHS[month], min(m_list), sum(m_list) / len(m_list), max(m_list))"
     ],
     "language": "python",
     "metadata": {},
     "outputs": [
      {
       "output_type": "stream",
       "stream": "stdout",
       "text": [
        "January -16.7778 -0.849400201742 12.2222\n",
        "February -15.4444 0.662865429825 11.9444\n",
        "March -7.66667 4.47398913816 16.2778\n",
        "April -2.11111 9.27625387642 20.7222\n",
        "May 5.22222 13.97930566 23.1667\n",
        "June 7.77778 17.204186306 25.1111\n",
        "July 10.5 18.459178853 26.2778\n",
        "August 9.5 18.2187152876 27.6667\n",
        "September 3.88889 13.7085448664 22.7222\n",
        "October -1.44444 9.38012671254 20.5\n",
        "November -7.11111 3.74218128667 14.1667\n",
        "December -15.5 0.220316730325 11.2778\n"
       ]
      }
     ],
     "prompt_number": 8
    },
    {
     "cell_type": "markdown",
     "metadata": {},
     "source": [
      "You may want to look into the [caldendar](http://docs.python.org/2.7/library/calendar.html) and [datetime](http://docs.python.org/2.7/library/datetime.html) built-in modules to see if any of the above can be made easier."
     ]
    }
   ],
   "metadata": {}
  }
 ]
}