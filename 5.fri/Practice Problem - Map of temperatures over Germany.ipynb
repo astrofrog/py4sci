{
 "cells": [
  {
   "cell_type": "markdown",
   "metadata": {},
   "source": [
    "# Practice Problem - Map of temperatures over Germany"
   ]
  },
  {
   "cell_type": "markdown",
   "metadata": {},
   "source": [
    "Using [http://openweathermap.org/API](http://openweathermap.org/API), can you make a map of temperatures in Germany? You can use the [data/germany.txt](data/germany.txt) file which gives the longitude and latitude of the borders of Germany, for plotting."
   ]
  },
  {
   "cell_type": "markdown",
   "metadata": {},
   "source": [
    "## Solution"
   ]
  },
  {
   "cell_type": "code",
   "execution_count": null,
   "metadata": {
    "collapsed": false
   },
   "outputs": [],
   "source": [
    "\n",
    "# your solution here\n"
   ]
  }
 ],
 "metadata": {},
 "nbformat": 4,
 "nbformat_minor": 2
}
