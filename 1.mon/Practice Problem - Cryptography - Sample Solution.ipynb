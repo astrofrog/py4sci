{
 "cells": [
  {
   "cell_type": "markdown",
   "metadata": {},
   "source": [
    "# Practice Problem - Cryptography - Sample Solution"
   ]
  },
  {
   "cell_type": "code",
   "execution_count": null,
   "metadata": {
    "collapsed": false
   },
   "outputs": [],
   "source": [
    "def caesar(string, shift):\n",
    "\n",
    "    # We initialize an empty string to which we are going to add the new letters\n",
    "    new_string = \"\"\n",
    "    \n",
    "    # Loop over all the letters in the string\n",
    "    for letter in string:\n",
    "        \n",
    "        # We need to make sure that spaces stay intact\n",
    "        if letter == ' ':\n",
    "            new_letter = ' '\n",
    "        else:\n",
    "            \n",
    "            # We convert the letter to its ASCII code and add the shift\n",
    "            i = ord(letter) + shift\n",
    "            \n",
    "            # We need to make sure that we wrap around the alphabet\n",
    "            if i > ord('z'):\n",
    "                i -= 26\n",
    "            elif i < ord('a'):\n",
    "                i += 26\n",
    "            \n",
    "            # We convert the ASCII code back to a letter\n",
    "            new_letter = chr(i)\n",
    "            \n",
    "        new_string += new_letter\n",
    "\n",
    "    return new_string\n",
    "     \n",
    "print(caesar(\"pbatenghyngvbaf lbh unir fhpprrqrq va qrpelcgvat gur fgevat\", -13))\n"
   ]
  },
  {
   "cell_type": "markdown",
   "metadata": {},
   "source": [
    "Now for the string for which we don't know the shift:"
   ]
  },
  {
   "cell_type": "code",
   "execution_count": null,
   "metadata": {
    "collapsed": false
   },
   "outputs": [],
   "source": [
    "for shift in range(26):\n",
    "    print(shift, caesar(\"gwc uivioml bw nqvl bpm zqopb apqnb\", -shift))"
   ]
  },
  {
   "cell_type": "markdown",
   "metadata": {},
   "source": [
    "It looks like the right shift was 8! Finally, here's how you could implement your own functions for ``ord`` and ``chr``. It seems that ``a`` starts at an ASCII code of 97, so let's try and reproduce the results for the letters ``a`` to ``z``:"
   ]
  },
  {
   "cell_type": "code",
   "execution_count": null,
   "metadata": {
    "collapsed": false
   },
   "outputs": [],
   "source": [
    "def my_ord(s):\n",
    "    letters = 'abcdefghijklmnopqrstuvwxyz'\n",
    "    return letters.index(s) + 97\n",
    "\n",
    "print(ord('f'), my_ord('f'))"
   ]
  },
  {
   "cell_type": "code",
   "execution_count": null,
   "metadata": {
    "collapsed": false
   },
   "outputs": [],
   "source": [
    "def my_chr(i):\n",
    "    letters = 'abcdefghijklmnopqrstuvwxyz'\n",
    "    return letters[i-97]\n",
    "\n",
    "print(chr(100), my_chr(100))"
   ]
  },
  {
   "cell_type": "markdown",
   "metadata": {},
   "source": [
    "Of course, these custom functions will only work for ``a`` to ``z`` and not for any other character or punctuation, but this is just practice for writing functions."
   ]
  }
 ],
 "metadata": {},
 "nbformat": 4,
 "nbformat_minor": 2
}
