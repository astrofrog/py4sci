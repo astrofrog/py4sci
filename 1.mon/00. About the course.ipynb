{
 "cells": [
  {
   "cell_type": "markdown",
   "metadata": {},
   "source": [
    "# About the course"
   ]
  },
  {
   "cell_type": "markdown",
   "metadata": {},
   "source": [
    "## About myself"
   ]
  },
  {
   "cell_type": "markdown",
   "metadata": {},
   "source": [
    "My name is [Thomas Robitaille](http://mpia.de/~robitaille/) and I am the leader of a research group at the Max Planck Institut für Astronomie. I carry out research on star formation in the Milky-Way and other galaxies, and I use Python for my daily work.\n",
    "\n",
    "I have developed a number of Python packages for Astronomers, including [APLpy](http://aplpy.github.io), [ATpy](http://atpy.github.io), [Montage-wrapper](http://www.astropy.org/montage-wrapper/), [PyAVM](https://github.com/astrofrog/pyavm). I have also contributed to [Scipy](http://www.scipy.org) and other scientific packages, and am one of the project leaders for [Astropy](http://www.astropy.org), which is a big project to create one main Python package for Astronomy.\n",
    "\n",
    "![](http://mpia.de/~robitaille/glimpse.png)\n",
    "\n",
    "You can contact me at **robitaille@mpia.de**.\n",
    "\n",
    "The tutor for this course is Axel Donath (**axel.donath@mpi-hd.mpg.de**) and he will also be available during the week to answer any questions you may have! "
   ]
  },
  {
   "cell_type": "markdown",
   "metadata": {},
   "source": [
    "## Feedback"
   ]
  },
  {
   "cell_type": "markdown",
   "metadata": {
    "slideshow": {
     "slide_type": "slide"
    }
   },
   "source": [
    "Please let me know if you have feedback/suggestions for improving the course!\n",
    "\n",
    "At any point during the course, you can fill out this form to give 'live' feedback:\n",
    "\n",
    "https://docs.google.com/forms/d/1UYgqtv7ZVF14I7ciNXj1mVkTxJBIZ-6EodI_ySdS5uc/viewform"
   ]
  },
  {
   "cell_type": "markdown",
   "metadata": {
    "slideshow": {
     "slide_type": "slide"
    }
   },
   "source": [
    "Topics\n",
    "------\n",
    "\n",
    "- Using the IPython Notebook\n",
    "- Introduction to Python\n",
    "- Modules and Functions\n",
    "- Introduction to Numpy and Matplotlib\n",
    "- Reading/writing data from files\n",
    "- Introduction to Scipy (interpolation, integration, fitting)\n",
    "- Object-oriented programming\n",
    "- Applying Python to scientific problems"
   ]
  },
  {
   "cell_type": "markdown",
   "metadata": {
    "slideshow": {
     "slide_type": "notes"
    }
   },
   "source": [
    "Structure\n",
    "---------\n",
    "\n",
    "The block course lasts five days, and each day will follow this schedule:\n",
    "\n",
    "* 9:00-10:30 - lecture/exercises\n",
    "* 10:30-11:00 - break\n",
    "* 11:00-12:30 - lecture/exercises\n",
    "* 12:30-13:30 - break for lunch\n",
    "* 13:30-14:30 - lecture/exercises\n",
    "* 14:30-17:00 - computer pool available to finish homework\n",
    "\n",
    "The lectures will be mixed with exercise sessions - from time to time I will give you 5 or 10 minutes to complete a given task/exercise. I will give out three graded problem sets during the week, and you will be required to hand these in a deadline indicated on the problem sheet. There will be *no* final exam. An average of 60% in the problem sets will be required to obtain the 2 credits at the end of the course.\n",
    "\n",
    "The course will be in English."
   ]
  },
  {
   "cell_type": "markdown",
   "metadata": {
    "slideshow": {
     "slide_type": "slide"
    }
   },
   "source": [
    "I am very happy to come by to review your code/solutions to exercises (i.e. not problem sets, at least not until they are handed in). During the afternoon session, please do ask me or Axel to come by if you would like me to comment on your code and how to improve it."
   ]
  },
  {
   "cell_type": "markdown",
   "metadata": {
    "slideshow": {
     "slide_type": "slide"
    }
   },
   "source": [
    "Solutions\n",
    "---------"
   ]
  },
  {
   "cell_type": "markdown",
   "metadata": {
    "slideshow": {
     "slide_type": "slide"
    }
   },
   "source": [
    "All solutions should be submitted as an IPython notebooks (one notebook per problem set). Please enter a filename that contains the name of the problem sheet and your name, and ending with ``.ipynb``, as follows:\n",
    "\n",
    "        problem_set_2_thomas_robitaille.ipynb\n",
    "\n",
    "Send the file by email to [axel.donath@mpi-hd.mpg.de](mailto:axel.donath@mpi-hd.mpg.de) with ``[PY4SCI]`` in the subject."
   ]
  },
  {
   "cell_type": "markdown",
   "metadata": {
    "slideshow": {
     "slide_type": "slide"
    }
   },
   "source": [
    "The following criteria are taken into account for grading problem sets - the notebook should:\n",
    "\n",
    "- run with no errors\n",
    "- produce the correct results\n",
    "- be clearly readable, and include text to explain what you are doing and why\n",
    "- not include any unused code!\n",
    "- be well presented! :)\n",
    "\n",
    "Please make use of the ability to add text around your code in the notebook. Make it so that someone not familiar with the problem could read through it and understand your solution."
   ]
  },
  {
   "cell_type": "markdown",
   "metadata": {},
   "source": [
    "**There is not always a unique solution to a problem**, so it does not matter if your programs do not look the same as somebody else's! What matters most is that you find your own way of doing it."
   ]
  },
  {
   "cell_type": "markdown",
   "metadata": {},
   "source": [
    "Policy on handing in solutions\n",
    "------------------------------\n",
    "\n",
    "Practice Problems can be done in groups, but Problem Sets should be done **individually** in order to get the full marks. If you need to work with someone else, then you can, but (a) you should submit a single solution and declare that you worked together on the solution, and (b) the final grade for the problem set will be multiplied by 0.75. If two students or more submit essentially the same solution without declaring they have worked together, then the final grade for the problem set will be multiplied by 0.50 :)"
   ]
  },
  {
   "cell_type": "markdown",
   "metadata": {
    "slideshow": {
     "slide_type": "slide"
    }
   },
   "source": [
    "Laptops\n",
    "-------\n",
    "\n",
    "If you would like to use Python on your laptop, you have several possibilities:\n",
    "\n",
    "- If you have a linux laptop and are familiar with package managers, most major scientific Python packages are available through these\n",
    "- Otherwise, try and install the [Anaconda Python distribution](http://continuum.io/downloads.html)\n",
    "\n",
    "Come and speak to me in the afternoon if you have any questions or need any help getting set up."
   ]
  },
  {
   "cell_type": "markdown",
   "metadata": {},
   "source": [
    "## Getting set up"
   ]
  },
  {
   "cell_type": "markdown",
   "metadata": {},
   "source": [
    "### Lecture Notes"
   ]
  },
  {
   "cell_type": "markdown",
   "metadata": {},
   "source": [
    "The lecture notes in notebook format can be downloaded from the main lecture course page. Note that you can untar files with:\n",
    "\n",
    "    tar xvzf py4sci_mon.tgz"
   ]
  },
  {
   "cell_type": "markdown",
   "metadata": {},
   "source": [
    "### CIP Pool"
   ]
  },
  {
   "cell_type": "markdown",
   "metadata": {},
   "source": [
    "Before you can run Python in the ways described on this page, you will need to start up a command-line Terminal application. In the CIP pool this is located in the Anwendungen -> Zubehör -> Terminal menu.\n",
    "\n",
    "If you are using the CIP machines, you will need to add a line to your .bashrc file to enable the Anaconda Python distribution. You can run:\n",
    "\n",
    "    echo \"export PATH=/local/py4sci/anaconda3/bin:\\$PATH\" >> ~/.bashrc"
   ]
  }
 ],
 "metadata": {
  "kernelspec": {
   "display_name": "Python 3",
   "language": "python",
   "name": "python3"
  },
  "language_info": {
   "codemirror_mode": {
    "name": "ipython",
    "version": 3
   },
   "file_extension": ".py",
   "mimetype": "text/x-python",
   "name": "python",
   "nbconvert_exporter": "python",
   "pygments_lexer": "ipython3",
   "version": "3.4.3"
  }
 },
 "nbformat": 4,
 "nbformat_minor": 2
}
