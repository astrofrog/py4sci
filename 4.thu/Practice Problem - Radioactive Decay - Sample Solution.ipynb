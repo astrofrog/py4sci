{
 "cells": [
  {
   "cell_type": "markdown",
   "metadata": {},
   "source": [
    "# Practice Problem - Radioactive Decay - Sample Solution"
   ]
  },
  {
   "cell_type": "code",
   "execution_count": null,
   "metadata": {
    "collapsed": false
   },
   "outputs": [],
   "source": [
    "import numpy as np\n",
    "%matplotlib inline\n",
    "import matplotlib.pyplot as plt"
   ]
  },
  {
   "cell_type": "markdown",
   "metadata": {},
   "source": [
    "We start off by reading in the data"
   ]
  },
  {
   "cell_type": "code",
   "execution_count": null,
   "metadata": {
    "collapsed": false
   },
   "outputs": [],
   "source": [
    "x, y, e = np.loadtxt('data/decay_data.txt', unpack=True)"
   ]
  },
  {
   "cell_type": "markdown",
   "metadata": {},
   "source": [
    "And we can make a plot with error bars (and axis labels):"
   ]
  },
  {
   "cell_type": "code",
   "execution_count": null,
   "metadata": {
    "collapsed": false
   },
   "outputs": [],
   "source": [
    "plt.errorbar(x, y, yerr=e, fmt=\"none\")\n",
    "plt.xlabel(\"time [d]\")\n",
    "plt.ylabel(\"decay rate [s^-1]\")"
   ]
  },
  {
   "cell_type": "markdown",
   "metadata": {},
   "source": [
    "We now use curve_fit to fit the data and print out the best-fit parameters and uncertainties:"
   ]
  },
  {
   "cell_type": "code",
   "execution_count": null,
   "metadata": {
    "collapsed": false
   },
   "outputs": [],
   "source": [
    "from scipy.optimize import curve_fit\n",
    "\n",
    "# Define function without background\n",
    "def decay_rate(x, n_0, tau):\n",
    "    return n_0 * np.exp(-(x / tau))\n",
    "\n",
    "# Carry out the fit\n",
    "popt1, pcov1 = curve_fit(decay_rate, x, y, sigma=e)\n",
    "\n",
    "# Print out result\n",
    "print(\"Initial fit (no background)\")\n",
    "print(\"N_0 =\", popt1[0], \"+/-\", pcov1[0,0]**0.5, \"s^-1\")\n",
    "print(\"tau =\", popt1[1], \"+/-\", pcov1[1,1]**0.5, \"days\")"
   ]
  },
  {
   "cell_type": "markdown",
   "metadata": {},
   "source": [
    "We can now plot the best-fit model:"
   ]
  },
  {
   "cell_type": "code",
   "execution_count": null,
   "metadata": {
    "collapsed": false
   },
   "outputs": [],
   "source": [
    "plt.errorbar(x, y, yerr=e, fmt=None)\n",
    "plt.plot(x, decay_rate(x, popt1[0], popt1[1]), 'r-')\n",
    "plt.xlabel(\"time [d]\")\n",
    "plt.ylabel(\"decay rate [s^-1]\")"
   ]
  },
  {
   "cell_type": "markdown",
   "metadata": {},
   "source": [
    "We can now repeat the fitting with a model that includes a background:"
   ]
  },
  {
   "cell_type": "code",
   "execution_count": null,
   "metadata": {
    "collapsed": false
   },
   "outputs": [],
   "source": [
    "# Define function with background\n",
    "def decay_rate_bkg(x, n_0, tau, n_bkg):\n",
    "    return n_0 * np.exp(-(x / tau)) + n_bkg\n",
    "\n",
    "# Carry out the fit\n",
    "popt2, pcov2 = curve_fit(decay_rate_bkg, x, y, sigma=e)\n",
    "\n",
    "# Print out result\n",
    "print(\"Updated fit (with background)\")\n",
    "print(\"N_0 =\", popt2[0], \"+/-\", pcov2[0,0]**0.5, \"s^-1\")\n",
    "print(\"tau =\", popt2[1], \"+/-\", pcov2[1,1]**0.5, \"days\")\n",
    "print(\"N_bkg =\", popt2[2], \"+/-\", pcov2[2,2]**0.5, \"s^-1\")"
   ]
  },
  {
   "cell_type": "markdown",
   "metadata": {},
   "source": [
    "and plotting the best-fit again, we see that the fit is much better:"
   ]
  },
  {
   "cell_type": "code",
   "execution_count": null,
   "metadata": {
    "collapsed": false
   },
   "outputs": [],
   "source": [
    "plt.errorbar(x, y, yerr=e, fmt=None)\n",
    "plt.plot(x, decay_rate_bkg(x, popt2[0], popt2[1], popt2[2]), 'r-')\n",
    "plt.axhline(popt2[2], ls='dashed', color='black')\n",
    "plt.xlabel(\"time [d]\")\n",
    "plt.ylabel(\"decay rate [s^-1]\")"
   ]
  },
  {
   "cell_type": "code",
   "execution_count": null,
   "metadata": {
    "collapsed": false
   },
   "outputs": [],
   "source": [
    "def chi2(data, error, model):\n",
    "    return np.sum((data - model)**2 / error**2)\n",
    "\n",
    "print(\"Reduced chi^2:\")\n",
    "print(\"No background = \", chi2(y, e, decay_rate(x, popt1[0], popt1[1])) / (len(x) - 3.))\n",
    "print(\"With background = \", chi2(y, e, decay_rate_bkg(x, popt2[0], popt2[1], popt2[2])) / (len(x) - 4.))"
   ]
  },
  {
   "cell_type": "markdown",
   "metadata": {},
   "source": [
    "As we can see, the model with a background is a better fit!"
   ]
  }
 ],
 "metadata": {},
 "nbformat": 4,
 "nbformat_minor": 2
}
