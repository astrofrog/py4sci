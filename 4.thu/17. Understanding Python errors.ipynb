{
 "cells": [
  {
   "cell_type": "markdown",
   "metadata": {},
   "source": [
    "# Understanding Python Errors"
   ]
  },
  {
   "cell_type": "markdown",
   "metadata": {},
   "source": [
    "## Reading errors"
   ]
  },
  {
   "cell_type": "markdown",
   "metadata": {},
   "source": [
    "By now, you have likely encountered Python errors very often. Here is an example of an error:"
   ]
  },
  {
   "cell_type": "code",
   "execution_count": null,
   "metadata": {
    "collapsed": false
   },
   "outputs": [],
   "source": [
    "s = 'hello'\n",
    "s[0] = 'a'"
   ]
  },
  {
   "cell_type": "markdown",
   "metadata": {},
   "source": [
    "This is called an **exception traceback**. The **exception** is the error itself, and the **traceback** is the information that shows where it occured. The above traceback is quite simple (because the code producing the error is quite simple). The most important thing you should look at in an error is the last line, in this case:\n",
    "\n",
    "    'str' object does not support item assignment\n",
    "    \n",
    "Now let's look at a slightly more complex error:"
   ]
  },
  {
   "cell_type": "code",
   "execution_count": null,
   "metadata": {
    "collapsed": false
   },
   "outputs": [],
   "source": [
    "import numpy as np\n",
    "\n",
    "def subtract_smooth(x, y):\n",
    "    y_new = y - median_filter(x, y, 1.)\n",
    "    return y_new\n",
    "\n",
    "def median_filter(x, y, width):\n",
    "    y_new = np.zeros(y.shape)\n",
    "    for i in range(len(x)):\n",
    "        y_new[i] = np.median(y[np.abs(x - x[i]) < width * 0.5])\n",
    "    return y_new"
   ]
  },
  {
   "cell_type": "code",
   "execution_count": null,
   "metadata": {
    "collapsed": false
   },
   "outputs": [],
   "source": [
    "subtract_smooth(np.array([1,2,3,4,5]),np.array([4,5,6,8]))"
   ]
  },
  {
   "cell_type": "markdown",
   "metadata": {},
   "source": [
    "The error is now more complex. The first line shows what top-level code was executed when the error occured - in this case the call to ``subtract_smooth``:\n",
    "\n",
    "    <ipython-input-17-7bd1930fb255> in <module>()\n",
    "    ----> 1 subtract_smooth(np.array([1,2,3,4,5]),np.array([4,5,6,8]))\n",
    "    \n",
    "The next chunk shows where the error occured inside ``subtract_smooth``:\n",
    "\n",
    "    <ipython-input-18-4b1062b3783d> in subtract_smooth(x, y)\n",
    "          1 def subtract_smooth(x, y):\n",
    "    ----> 2     y_new = y - median_filter(x, y, 1.)\n",
    "          3     return y_new\n",
    "          4 \n",
    "          5 def median_filter(x, y, width):\n",
    "          \n",
    "you can see it happened when calling ``median_filter``. Finally, we can see where the error occured inside ``median_filter``:\n",
    "\n",
    "    <ipython-input-18-4b1062b3783d> in median_filter(x, y, width)\n",
    "          6     y_new = np.zeros(y.shape)\n",
    "          7     for i in range(len(x)):\n",
    "    ----> 8         y_new[i] = np.median(y[np.abs(x - x[i]) < width * 0.5])\n",
    "          9     return y_new\n",
    "          \n",
    "So tracebacks show you the full history of the error!\n",
    "\n",
    "Now in the above case, the final error is:\n",
    "\n",
    "    ValueError: too many boolean indices\n",
    "    \n",
    "Why is this occuring? The only place that boolean indices are used here is when doing:\n",
    "\n",
    "    np.abs(x - x[i]) < width * 0.5\n",
    "    \n",
    "The issue is that if we look back at the original function call, there are more values for ``x`` than for ``y``!"
   ]
  },
  {
   "cell_type": "markdown",
   "metadata": {},
   "source": [
    "## Using the debugger"
   ]
  },
  {
   "cell_type": "markdown",
   "metadata": {},
   "source": [
    "In the above example, the code was still simple enough that we could guess the solution, but sometimes things are not so simple. One way to diagnose the issue would have been to print out the content of the variables in ``median_filter`` and run it again to see what was going on.\n",
    "\n",
    "However, Python includes a *debugger*, which allows you to jump right in to where the error happened, and look at the variables. In the IPython notebook or in IPython, once an error has happened, you can run ``%debug``, and you will see a ``ipdb>`` prompt (IPython debugger). You can then print out variables to see what they are set to. Let's try the above example again:"
   ]
  },
  {
   "cell_type": "code",
   "execution_count": null,
   "metadata": {
    "collapsed": false
   },
   "outputs": [],
   "source": [
    "subtract_smooth(np.array([1,2,3,4,5]),np.array([4,5,6,8]))"
   ]
  },
  {
   "cell_type": "code",
   "execution_count": null,
   "metadata": {
    "collapsed": false
   },
   "outputs": [],
   "source": [
    "# Type %debug here"
   ]
  },
  {
   "cell_type": "markdown",
   "metadata": {},
   "source": [
    "We can see that the boolean array that is being used as indices to ``y`` is too big. Much simpler! Type ``exit`` to exit the debugger."
   ]
  },
  {
   "cell_type": "markdown",
   "metadata": {},
   "source": [
    "## Catching exceptions"
   ]
  },
  {
   "cell_type": "markdown",
   "metadata": {},
   "source": [
    "In some cases, we know that errors might happen, and we don't want them to crash the code. For example, if we have to read in 1000 files, a few might be corrupt, and we just want to skip over them. Or we want to try something, and if it doesn't work, do something else. To do this, we can **catch** exceptions:"
   ]
  },
  {
   "cell_type": "code",
   "execution_count": null,
   "metadata": {
    "collapsed": false
   },
   "outputs": [],
   "source": [
    "s = 'hello'"
   ]
  },
  {
   "cell_type": "code",
   "execution_count": null,
   "metadata": {
    "collapsed": false
   },
   "outputs": [],
   "source": [
    "s[1] = 'a'"
   ]
  },
  {
   "cell_type": "code",
   "execution_count": null,
   "metadata": {
    "collapsed": false
   },
   "outputs": [],
   "source": [
    "try:\n",
    "    s[1] = 'a'\n",
    "except:\n",
    "    print(\"Can't set s[1]\")"
   ]
  },
  {
   "cell_type": "markdown",
   "metadata": {},
   "source": [
    "The ``try...except`` contruct above catches *all* exceptions, but in some cases we want to be a bit more specific. The error that occurs above is a ``TypeError``, which is just one kind of error (others include ``ValueError``, ``SystemError``, etc.). To catch just ``TypeError``, you can do:"
   ]
  },
  {
   "cell_type": "code",
   "execution_count": null,
   "metadata": {
    "collapsed": false
   },
   "outputs": [],
   "source": [
    "try:\n",
    "    s[1] = 'a'\n",
    "except TypeError:\n",
    "    print(\"Can't set s[1]\")"
   ]
  },
  {
   "cell_type": "markdown",
   "metadata": {},
   "source": [
    "If you catch other errors, TypeError will pass"
   ]
  },
  {
   "cell_type": "code",
   "execution_count": null,
   "metadata": {
    "collapsed": false
   },
   "outputs": [],
   "source": [
    "try:\n",
    "    s[1] = 'a'\n",
    "except ValueError:    \n",
    "    print(\"Can't set s[1]\")"
   ]
  }
 ],
 "metadata": {},
 "nbformat": 4,
 "nbformat_minor": 2
}
